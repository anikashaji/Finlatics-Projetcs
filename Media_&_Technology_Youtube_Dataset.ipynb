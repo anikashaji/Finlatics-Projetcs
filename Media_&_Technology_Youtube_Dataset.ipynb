{
  "nbformat": 4,
  "nbformat_minor": 0,
  "metadata": {
    "colab": {
      "provenance": []
    },
    "kernelspec": {
      "name": "python3",
      "display_name": "Python 3"
    },
    "language_info": {
      "name": "python"
    }
  },
  "cells": [
    {
      "cell_type": "markdown",
      "source": [
        "## Data Preprocessing Steps:"
      ],
      "metadata": {
        "id": "1gTg83HQSkuG"
      }
    },
    {
      "cell_type": "code",
      "execution_count": null,
      "metadata": {
        "id": "H48i1T9OFeSp"
      },
      "outputs": [],
      "source": [
        "import pandas as pd\n",
        "import numpy as np\n",
        "import matplotlib.pyplot as plt\n",
        "from sklearn.cluster import KMeans\n",
        "from sklearn.preprocessing import StandardScaler,MinMaxScaler\n",
        "import seaborn as sns\n"
      ]
    },
    {
      "cell_type": "code",
      "source": [
        "df = pd.read_csv('/content/Global_YouTube_Statistics.csv', encoding='latin1')"
      ],
      "metadata": {
        "id": "_tSvjSJtGWq5"
      },
      "execution_count": null,
      "outputs": []
    },
    {
      "cell_type": "code",
      "source": [
        "# Display the first few rows\n",
        "print(df.head())\n",
        "\n",
        "# Display dataset information\n",
        "print(df.info())\n",
        "\n",
        "# Display summary statistics\n",
        "print(df.describe())\n"
      ],
      "metadata": {
        "colab": {
          "base_uri": "https://localhost:8080/"
        },
        "id": "mUt1olWJkgyd",
        "outputId": "365d9c8e-9c21-4328-defe-6f5805594e72"
      },
      "execution_count": null,
      "outputs": [
        {
          "output_type": "stream",
          "name": "stdout",
          "text": [
            "   rank                    Youtuber  subscribers   video views  \\\n",
            "0     1                    T-Series  245000000.0  2.280000e+11   \n",
            "1     2              YouTube Movies  170000000.0  0.000000e+00   \n",
            "2     3                     MrBeast  166000000.0  2.836884e+10   \n",
            "3     4  Cocomelon - Nursery Rhymes  162000000.0  1.640000e+11   \n",
            "4     5                   SET India  159000000.0  1.480000e+11   \n",
            "\n",
            "           category                       Title  uploads Country of origin  \\\n",
            "0             Music                    T-Series    20082             India   \n",
            "1  Film & Animation               youtubemovies        1     United States   \n",
            "2     Entertainment                     MrBeast      741     United States   \n",
            "3         Education  Cocomelon - Nursery Rhymes      966     United States   \n",
            "4             Shows                   SET India   116536             India   \n",
            "\n",
            "         Country Abbreviation  ... subscribers_for_last_30_days  created_year  \\\n",
            "0          india           IN  ...                    2000000.0        2006.0   \n",
            "1  United States           US  ...                          NaN        2006.0   \n",
            "2  United States           US  ...                    8000000.0        2012.0   \n",
            "3  United States           US  ...                    1000000.0        2006.0   \n",
            "4          India           IN  ...                    1000000.0        2006.0   \n",
            "\n",
            "   created_month  created_date  Gross tertiary education enrollment (%)  \\\n",
            "0            Mar          13.0                                     28.1   \n",
            "1            NaN           5.0                                     88.2   \n",
            "2            Feb          20.0                                     88.2   \n",
            "3            Sep           1.0                                     88.2   \n",
            "4            Sep          20.0                                     28.1   \n",
            "\n",
            "     Population  Unemployment rate  Urban_population   Latitude  Longitude  \n",
            "0  1.366418e+09               5.36       471031528.0  20.593684  78.962880  \n",
            "1  3.282395e+08              14.70       270663028.0  37.090240 -95.712891  \n",
            "2  3.282395e+08              14.70       270663028.0  37.090240 -95.712891  \n",
            "3  3.282395e+08              14.70       270663028.0  37.090240 -95.712891  \n",
            "4  1.366418e+09               5.36       471031528.0  20.593684  78.962880  \n",
            "\n",
            "[5 rows x 29 columns]\n",
            "<class 'pandas.core.frame.DataFrame'>\n",
            "RangeIndex: 1006 entries, 0 to 1005\n",
            "Data columns (total 29 columns):\n",
            " #   Column                                   Non-Null Count  Dtype  \n",
            "---  ------                                   --------------  -----  \n",
            " 0   rank                                     1006 non-null   int64  \n",
            " 1   Youtuber                                 1006 non-null   object \n",
            " 2   subscribers                              1003 non-null   float64\n",
            " 3   video views                              1006 non-null   float64\n",
            " 4   category                                 951 non-null    object \n",
            " 5   Title                                    1006 non-null   object \n",
            " 6   uploads                                  1006 non-null   int64  \n",
            " 7   Country of origin                        881 non-null    object \n",
            " 8   Country                                  881 non-null    object \n",
            " 9   Abbreviation                             881 non-null    object \n",
            " 10  channel_type                             974 non-null    object \n",
            " 11  video_views_rank                         1005 non-null   float64\n",
            " 12  country_rank                             887 non-null    float64\n",
            " 13  channel_type_rank                        971 non-null    float64\n",
            " 14  video_views_for_the_last_30_days         949 non-null    float64\n",
            " 15  lowest_monthly_earnings                  1006 non-null   float64\n",
            " 16  highest_monthly_earnings                 1006 non-null   float64\n",
            " 17  lowest_yearly_earnings                   1006 non-null   float64\n",
            " 18  highest_yearly_earnings                  1006 non-null   float64\n",
            " 19  subscribers_for_last_30_days             666 non-null    float64\n",
            " 20  created_year                             1001 non-null   float64\n",
            " 21  created_month                            994 non-null    object \n",
            " 22  created_date                             1001 non-null   float64\n",
            " 23  Gross tertiary education enrollment (%)  880 non-null    float64\n",
            " 24  Population                               880 non-null    float64\n",
            " 25  Unemployment rate                        880 non-null    float64\n",
            " 26  Urban_population                         880 non-null    float64\n",
            " 27  Latitude                                 880 non-null    float64\n",
            " 28  Longitude                                880 non-null    float64\n",
            "dtypes: float64(19), int64(2), object(8)\n",
            "memory usage: 228.0+ KB\n",
            "None\n",
            "              rank   subscribers   video views        uploads  \\\n",
            "count  1006.000000  1.003000e+03  1.006000e+03    1006.000000   \n",
            "mean    497.472167  2.319501e+07  1.112411e+10    9168.335984   \n",
            "std     288.738758  1.783047e+07  1.424148e+10   34028.189437   \n",
            "min       1.000000  1.230000e+07  0.000000e+00       0.000000   \n",
            "25%     247.250000  1.450000e+07  4.281427e+09     194.000000   \n",
            "50%     498.500000  1.770000e+07  7.751292e+09     726.500000   \n",
            "75%     748.750000  2.475000e+07  1.357357e+10    2606.500000   \n",
            "max     995.000000  2.450000e+08  2.280000e+11  301308.000000   \n",
            "\n",
            "       video_views_rank  country_rank  channel_type_rank  \\\n",
            "count      1.005000e+03    887.000000         971.000000   \n",
            "mean       5.607670e+05    384.289741         742.311020   \n",
            "std        1.368886e+06   1227.359768        1938.126477   \n",
            "min        1.000000e+00      1.000000           1.000000   \n",
            "25%        3.220000e+02     11.000000          26.000000   \n",
            "50%        9.190000e+02     50.000000          65.000000   \n",
            "75%        3.645000e+03    123.000000         139.000000   \n",
            "max        4.057944e+06   7741.000000        7741.000000   \n",
            "\n",
            "       video_views_for_the_last_30_days  lowest_monthly_earnings  \\\n",
            "count                      9.490000e+02              1006.000000   \n",
            "mean                       1.760978e+08             37034.348489   \n",
            "std                        4.152933e+08             71869.653679   \n",
            "min                        1.000000e+00                 0.000000   \n",
            "25%                        1.974000e+07              2700.000000   \n",
            "50%                        6.408500e+07             13250.000000   \n",
            "75%                        1.692420e+08             38125.000000   \n",
            "max                        6.589000e+09            850900.000000   \n",
            "\n",
            "       highest_monthly_earnings  ...  highest_yearly_earnings  \\\n",
            "count              1.006000e+03  ...             1.006000e+03   \n",
            "mean               5.922453e+05  ...             7.110327e+06   \n",
            "std                1.148967e+06  ...             1.379921e+07   \n",
            "min                0.000000e+00  ...             0.000000e+00   \n",
            "25%                4.340000e+04  ...             5.207500e+05   \n",
            "50%                2.117000e+05  ...             2.550000e+06   \n",
            "75%                6.101750e+05  ...             7.300000e+06   \n",
            "max                1.360000e+07  ...             1.634000e+08   \n",
            "\n",
            "       subscribers_for_last_30_days  created_year  created_date  \\\n",
            "count                  6.660000e+02   1001.000000   1001.000000   \n",
            "mean                   3.495419e+05   2012.613387     15.712288   \n",
            "std                    6.131554e+05      4.514131      8.765109   \n",
            "min                    1.000000e+00   1970.000000      1.000000   \n",
            "25%                    1.000000e+05   2009.000000      8.000000   \n",
            "50%                    2.000000e+05   2013.000000     16.000000   \n",
            "75%                    4.000000e+05   2016.000000     23.000000   \n",
            "max                    8.000000e+06   2022.000000     31.000000   \n",
            "\n",
            "       Gross tertiary education enrollment (%)    Population  \\\n",
            "count                               880.000000  8.800000e+02   \n",
            "mean                                 63.597273  4.304586e+08   \n",
            "std                                  26.095537  4.735536e+08   \n",
            "min                                   7.600000  2.025060e+05   \n",
            "25%                                  36.300000  8.313280e+07   \n",
            "50%                                  68.000000  3.282395e+08   \n",
            "75%                                  88.200000  3.282395e+08   \n",
            "max                                 113.100000  1.397715e+09   \n",
            "\n",
            "       Unemployment rate  Urban_population    Latitude   Longitude  \n",
            "count         880.000000      8.800000e+02  880.000000  880.000000  \n",
            "mean            9.258966      2.239747e+08   26.639994  -13.811287  \n",
            "std             4.889912      1.550381e+08   20.516025   84.728810  \n",
            "min             0.750000      3.558800e+04  -38.416097 -172.104629  \n",
            "25%             5.270000      5.590832e+07   20.593684  -95.712891  \n",
            "50%             8.880000      2.706630e+08   37.090240  -51.925280  \n",
            "75%            14.700000      2.706630e+08   37.090240   78.962880  \n",
            "max            14.720000      8.429340e+08   61.924110  138.252924  \n",
            "\n",
            "[8 rows x 21 columns]\n"
          ]
        }
      ]
    },
    {
      "cell_type": "code",
      "source": [
        "# Check for missing values\n",
        "print(df.isnull().sum())\n",
        "\n",
        "# Handle missing values (example: fill with mean or median, or drop rows/columns)\n",
        "df['subscribers'] = df['subscribers'].fillna(df['subscribers'].median())\n",
        "df = df.dropna(subset=['video views'])\n"
      ],
      "metadata": {
        "colab": {
          "base_uri": "https://localhost:8080/"
        },
        "id": "oTSXq-K-kyP-",
        "outputId": "8d3b5b5c-3d9d-4228-fab9-6dde78f822fa"
      },
      "execution_count": null,
      "outputs": [
        {
          "output_type": "stream",
          "name": "stdout",
          "text": [
            "rank                                         0\n",
            "Youtuber                                     0\n",
            "subscribers                                  3\n",
            "video views                                  0\n",
            "category                                    55\n",
            "Title                                        0\n",
            "uploads                                      0\n",
            "Country of origin                          125\n",
            "Country                                    125\n",
            "Abbreviation                               125\n",
            "channel_type                                32\n",
            "video_views_rank                             1\n",
            "country_rank                               119\n",
            "channel_type_rank                           35\n",
            "video_views_for_the_last_30_days            57\n",
            "lowest_monthly_earnings                      0\n",
            "highest_monthly_earnings                     0\n",
            "lowest_yearly_earnings                       0\n",
            "highest_yearly_earnings                      0\n",
            "subscribers_for_last_30_days               340\n",
            "created_year                                 5\n",
            "created_month                               12\n",
            "created_date                                 5\n",
            "Gross tertiary education enrollment (%)    126\n",
            "Population                                 126\n",
            "Unemployment rate                          126\n",
            "Urban_population                           126\n",
            "Latitude                                   126\n",
            "Longitude                                  126\n",
            "dtype: int64\n"
          ]
        }
      ]
    },
    {
      "cell_type": "code",
      "source": [
        "import pandas as pd\n",
        "\n",
        "\n",
        "# Check initial missing values\n",
        "missing_values = df.isnull().sum()\n",
        "print(missing_values)\n",
        "\n",
        "# Handle missing numerical values with median\n",
        "numerical_cols_with_missing = ['subscribers', 'video_views_rank', 'country_rank', 'channel_type_rank',\n",
        "                               'video_views_for_the_last_30_days', 'subscribers_for_last_30_days']\n",
        "for col in numerical_cols_with_missing:\n",
        "    df[col] = df[col].fillna(df[col].median())\n",
        "\n",
        "# Handle missing categorical values with mode\n",
        "categorical_cols_with_missing = ['category', 'Country of origin', 'Country', 'Abbreviation', 'channel_type']\n",
        "for col in categorical_cols_with_missing:\n",
        "    df[col] = df[col].fillna(df[col].mode()[0])\n",
        "\n",
        "# Handle missing date values with backfill method\n",
        "date_cols_with_missing = ['created_year', 'created_month', 'created_date']\n",
        "for col in date_cols_with_missing:\n",
        "    df[col] = df[col].fillna(method='bfill')\n",
        "\n",
        "# Handle other specific columns with placeholders or dropping\n",
        "df['Gross tertiary education enrollment (%)'] = df['Gross tertiary education enrollment (%)'].fillna(df['Gross tertiary education enrollment (%)'].median())\n",
        "df['Population'] = df['Population'].fillna(df['Population'].median())\n",
        "df['Unemployment rate'] = df['Unemployment rate'].fillna(df['Unemployment rate'].median())\n",
        "df['Urban_population'] = df['Urban_population'].fillna(df['Urban_population'].median())\n",
        "df['Latitude'] = df['Latitude'].fillna(df['Latitude'].median())\n",
        "df['Longitude'] = df['Longitude'].fillna(df['Longitude'].median())\n",
        "\n",
        "# Final inspection\n",
        "print(df.isnull().sum())\n",
        "print(df.head())\n",
        "\n"
      ],
      "metadata": {
        "colab": {
          "base_uri": "https://localhost:8080/"
        },
        "id": "YnMRJE5cnfWU",
        "outputId": "d8e97c00-b3b0-4275-f880-2c5dfcd3b1a3"
      },
      "execution_count": null,
      "outputs": [
        {
          "output_type": "stream",
          "name": "stdout",
          "text": [
            "rank                                         0\n",
            "Youtuber                                     0\n",
            "subscribers                                  0\n",
            "video views                                  0\n",
            "category                                    55\n",
            "Title                                        0\n",
            "uploads                                      0\n",
            "Country of origin                          125\n",
            "Country                                    125\n",
            "Abbreviation                               125\n",
            "channel_type                                32\n",
            "video_views_rank                             1\n",
            "country_rank                               119\n",
            "channel_type_rank                           35\n",
            "video_views_for_the_last_30_days            57\n",
            "lowest_monthly_earnings                      0\n",
            "highest_monthly_earnings                     0\n",
            "lowest_yearly_earnings                       0\n",
            "highest_yearly_earnings                      0\n",
            "subscribers_for_last_30_days               340\n",
            "created_year                                 5\n",
            "created_month                               12\n",
            "created_date                                 5\n",
            "Gross tertiary education enrollment (%)    126\n",
            "Population                                 126\n",
            "Unemployment rate                          126\n",
            "Urban_population                           126\n",
            "Latitude                                   126\n",
            "Longitude                                  126\n",
            "dtype: int64\n",
            "rank                                       0\n",
            "Youtuber                                   0\n",
            "subscribers                                0\n",
            "video views                                0\n",
            "category                                   0\n",
            "Title                                      0\n",
            "uploads                                    0\n",
            "Country of origin                          0\n",
            "Country                                    0\n",
            "Abbreviation                               0\n",
            "channel_type                               0\n",
            "video_views_rank                           0\n",
            "country_rank                               0\n",
            "channel_type_rank                          0\n",
            "video_views_for_the_last_30_days           0\n",
            "lowest_monthly_earnings                    0\n",
            "highest_monthly_earnings                   0\n",
            "lowest_yearly_earnings                     0\n",
            "highest_yearly_earnings                    0\n",
            "subscribers_for_last_30_days               0\n",
            "created_year                               0\n",
            "created_month                              0\n",
            "created_date                               0\n",
            "Gross tertiary education enrollment (%)    0\n",
            "Population                                 0\n",
            "Unemployment rate                          0\n",
            "Urban_population                           0\n",
            "Latitude                                   0\n",
            "Longitude                                  0\n",
            "dtype: int64\n",
            "   rank                    Youtuber  subscribers   video views  \\\n",
            "0     1                    T-Series  245000000.0  2.280000e+11   \n",
            "1     2              YouTube Movies  170000000.0  0.000000e+00   \n",
            "2     3                     MrBeast  166000000.0  2.836884e+10   \n",
            "3     4  Cocomelon - Nursery Rhymes  162000000.0  1.640000e+11   \n",
            "4     5                   SET India  159000000.0  1.480000e+11   \n",
            "\n",
            "           category                       Title  uploads Country of origin  \\\n",
            "0             Music                    T-Series    20082             India   \n",
            "1  Film & Animation               youtubemovies        1     United States   \n",
            "2     Entertainment                     MrBeast      741     United States   \n",
            "3         Education  Cocomelon - Nursery Rhymes      966     United States   \n",
            "4             Shows                   SET India   116536             India   \n",
            "\n",
            "         Country Abbreviation  ... subscribers_for_last_30_days  created_year  \\\n",
            "0          india           IN  ...                    2000000.0        2006.0   \n",
            "1  United States           US  ...                     200000.0        2006.0   \n",
            "2  United States           US  ...                    8000000.0        2012.0   \n",
            "3  United States           US  ...                    1000000.0        2006.0   \n",
            "4          India           IN  ...                    1000000.0        2006.0   \n",
            "\n",
            "   created_month  created_date  Gross tertiary education enrollment (%)  \\\n",
            "0            Mar          13.0                                     28.1   \n",
            "1            Feb           5.0                                     88.2   \n",
            "2            Feb          20.0                                     88.2   \n",
            "3            Sep           1.0                                     88.2   \n",
            "4            Sep          20.0                                     28.1   \n",
            "\n",
            "     Population  Unemployment rate  Urban_population   Latitude  Longitude  \n",
            "0  1.366418e+09               5.36       471031528.0  20.593684  78.962880  \n",
            "1  3.282395e+08              14.70       270663028.0  37.090240 -95.712891  \n",
            "2  3.282395e+08              14.70       270663028.0  37.090240 -95.712891  \n",
            "3  3.282395e+08              14.70       270663028.0  37.090240 -95.712891  \n",
            "4  1.366418e+09               5.36       471031528.0  20.593684  78.962880  \n",
            "\n",
            "[5 rows x 29 columns]\n"
          ]
        }
      ]
    },
    {
      "cell_type": "code",
      "source": [
        "import pandas as pd\n",
        "\n",
        "\n",
        "null_counts = df.isnull().sum()\n",
        "\n",
        "print(\"Columns with null values:\")\n",
        "print(null_counts[null_counts > 0])"
      ],
      "metadata": {
        "colab": {
          "base_uri": "https://localhost:8080/"
        },
        "id": "X54Z9h9hlv_J",
        "outputId": "4fa164ba-c33f-4c84-881e-09d49b6309cf"
      },
      "execution_count": null,
      "outputs": [
        {
          "output_type": "stream",
          "name": "stdout",
          "text": [
            "Columns with null values:\n",
            "Series([], dtype: int64)\n"
          ]
        }
      ]
    },
    {
      "cell_type": "code",
      "source": [
        "# Check for duplicates\n",
        "print(df.duplicated().sum())\n",
        "\n",
        "df = df.drop_duplicates()\n"
      ],
      "metadata": {
        "colab": {
          "base_uri": "https://localhost:8080/"
        },
        "id": "7Rz5mZFen4Vh",
        "outputId": "2ed74e78-95d8-48ef-8603-cb9999489eed"
      },
      "execution_count": null,
      "outputs": [
        {
          "output_type": "stream",
          "name": "stdout",
          "text": [
            "11\n"
          ]
        }
      ]
    },
    {
      "cell_type": "code",
      "source": [
        "#Checking the datatypes of columns\n",
        "data_types = df.dtypes\n",
        "\n",
        "print(\"Datatypes of columns:\")\n",
        "print(data_types)\n"
      ],
      "metadata": {
        "colab": {
          "base_uri": "https://localhost:8080/"
        },
        "id": "xGTPcTJknlRH",
        "outputId": "11c11e63-d486-4cda-96d0-d8cea758695e"
      },
      "execution_count": null,
      "outputs": [
        {
          "output_type": "stream",
          "name": "stdout",
          "text": [
            "Datatypes of columns:\n",
            "rank                                         int64\n",
            "Youtuber                                    object\n",
            "subscribers                                float64\n",
            "video views                                float64\n",
            "category                                    object\n",
            "Title                                       object\n",
            "uploads                                      int64\n",
            "Country of origin                           object\n",
            "Country                                     object\n",
            "Abbreviation                                object\n",
            "channel_type                                object\n",
            "video_views_rank                           float64\n",
            "country_rank                               float64\n",
            "channel_type_rank                          float64\n",
            "video_views_for_the_last_30_days           float64\n",
            "lowest_monthly_earnings                    float64\n",
            "highest_monthly_earnings                   float64\n",
            "lowest_yearly_earnings                     float64\n",
            "highest_yearly_earnings                    float64\n",
            "subscribers_for_last_30_days               float64\n",
            "created_year                               float64\n",
            "created_month                               object\n",
            "created_date                               float64\n",
            "Gross tertiary education enrollment (%)    float64\n",
            "Population                                 float64\n",
            "Unemployment rate                          float64\n",
            "Urban_population                           float64\n",
            "Latitude                                   float64\n",
            "Longitude                                  float64\n",
            "dtype: object\n"
          ]
        }
      ]
    },
    {
      "cell_type": "code",
      "source": [
        "# Convert numerical columns to appropriate types\n",
        "df['subscribers'] = df['subscribers'].astype(int)\n",
        "df['video views'] = df['video views'].astype(int)\n",
        "df['uploads'] = df['uploads'].astype(int)\n",
        "\n",
        "# Convert created_year and created_date columns to datetime\n",
        "df['created_date'] = pd.to_datetime(df['created_date'], errors='coerce')\n",
        "df['created_year'] = df['created_date'].dt.year\n",
        "df['created_month'] = df['created_date'].dt.month\n",
        "\n",
        "# Verify the conversions\n",
        "print(df.dtypes)\n"
      ],
      "metadata": {
        "colab": {
          "base_uri": "https://localhost:8080/"
        },
        "id": "FrLOEHgdZgpH",
        "outputId": "d1e9914c-55d8-4c7d-b7ee-929d479f0965"
      },
      "execution_count": null,
      "outputs": [
        {
          "output_type": "stream",
          "name": "stdout",
          "text": [
            "rank                                                int64\n",
            "Youtuber                                           object\n",
            "subscribers                                         int64\n",
            "video views                                         int64\n",
            "category                                           object\n",
            "Title                                              object\n",
            "uploads                                             int64\n",
            "Country of origin                                  object\n",
            "Country                                            object\n",
            "Abbreviation                                       object\n",
            "channel_type                                       object\n",
            "video_views_rank                                  float64\n",
            "country_rank                                      float64\n",
            "channel_type_rank                                 float64\n",
            "video_views_for_the_last_30_days                  float64\n",
            "lowest_monthly_earnings                           float64\n",
            "highest_monthly_earnings                          float64\n",
            "lowest_yearly_earnings                            float64\n",
            "highest_yearly_earnings                           float64\n",
            "subscribers_for_last_30_days                      float64\n",
            "created_year                                        int32\n",
            "created_month                                       int32\n",
            "created_date                               datetime64[ns]\n",
            "Gross tertiary education enrollment (%)           float64\n",
            "Population                                        float64\n",
            "Unemployment rate                                 float64\n",
            "Urban_population                                  float64\n",
            "Latitude                                          float64\n",
            "Longitude                                         float64\n",
            "dtype: object\n"
          ]
        }
      ]
    },
    {
      "cell_type": "code",
      "source": [
        "# Extract additional date features if needed\n",
        "df['created_day'] = df['created_date'].dt.day\n"
      ],
      "metadata": {
        "id": "Pj05yAAPCM2t"
      },
      "execution_count": null,
      "outputs": []
    },
    {
      "cell_type": "code",
      "source": [
        "# Normalize text data\n",
        "df['Youtuber'] = df['Youtuber'].str.lower().str.replace('[^a-zA-Z0-9 ]', '')\n",
        "df['category'] = df['category'].str.lower().str.replace('[^a-zA-Z0-9 ]', '')\n"
      ],
      "metadata": {
        "id": "fPr5V9cwoehO"
      },
      "execution_count": null,
      "outputs": []
    },
    {
      "cell_type": "code",
      "source": [
        "#Using IQR to identify outliers in yearly earnings\n",
        "Q1 = df['highest_yearly_earnings'].quantile(0.25)\n",
        "Q3 = df['highest_yearly_earnings'].quantile(0.75)\n",
        "IQR = Q3 - Q1\n",
        "df = df[~((df['highest_yearly_earnings'] < (Q1 - 1.5 * IQR)) | (df['highest_yearly_earnings'] > (Q3 + 1.5 * IQR)))]\n"
      ],
      "metadata": {
        "id": "swI5L_BmClKL"
      },
      "execution_count": null,
      "outputs": []
    },
    {
      "cell_type": "code",
      "source": [
        "# Example using MinMaxScaler for scaling\n",
        "scaler = MinMaxScaler()\n",
        "df[['subscribers', 'video views', 'highest_yearly_earnings']] = scaler.fit_transform(df[['subscribers', 'video views', 'highest_yearly_earnings']])\n"
      ],
      "metadata": {
        "id": "fKBtc5QKCrXX"
      },
      "execution_count": null,
      "outputs": []
    },
    {
      "cell_type": "code",
      "source": [
        "# One-hot encoding for categorical variables\n",
        "df = pd.get_dummies(df, columns=['category', 'channel_type'])\n"
      ],
      "metadata": {
        "id": "Mqjt8zzGCrs2"
      },
      "execution_count": null,
      "outputs": []
    },
    {
      "cell_type": "markdown",
      "source": [
        "# 1. Top 10 YouTube Channels by Subscribers"
      ],
      "metadata": {
        "id": "YAwc-ZxMC_nv"
      }
    },
    {
      "cell_type": "code",
      "source": [
        "top_10_channels = df.sort_values(by='subscribers', ascending=False).head(10)\n",
        "print(top_10_channels[['Youtuber', 'subscribers']])\n"
      ],
      "metadata": {
        "colab": {
          "base_uri": "https://localhost:8080/"
        },
        "id": "iS8ZUn_iC9in",
        "outputId": "e6aadfd5-6c1a-437e-c170-9cd85c8c40ab"
      },
      "execution_count": null,
      "outputs": [
        {
          "output_type": "stream",
          "name": "stdout",
          "text": [
            "           Youtuber  subscribers\n",
            "1    youtube movies     0.677697\n",
            "5             music     0.458530\n",
            "7         pewdiepie     0.424151\n",
            "8       like nastya     0.402664\n",
            "12           gaming     0.349377\n",
            "14        goldmines     0.320584\n",
            "16  5-minute crafts     0.291362\n",
            "17        bangtantv     0.272024\n",
            "18           sports     0.269446\n",
            "19    justin bieber     0.254835\n"
          ]
        }
      ]
    },
    {
      "cell_type": "markdown",
      "source": [
        "#2. Category with Highest Average Number of Subscribers"
      ],
      "metadata": {
        "id": "W9-0xfc7Di7o"
      }
    },
    {
      "cell_type": "code",
      "source": [
        "\n",
        "# Melt the DataFrame to combine categories into a single column\n",
        "category_columns = [col for col in df.columns if col.startswith('category_')]\n",
        "df_melted = df.melt(id_vars=['Youtuber', 'subscribers'], value_vars=category_columns,\n",
        "                    var_name='category', value_name='category_value')\n",
        "\n",
        "# Filter rows where category_value is 1 (assuming 1 indicates the category of the Youtuber)\n",
        "df_filtered = df_melted[df_melted['category_value'] == 1]\n",
        "\n",
        "# Remove 'category_value' column as it's no longer needed\n",
        "df_filtered.drop(columns=['category_value'], inplace=True)\n",
        "\n",
        "# Remove the 'category_' prefix from the category names\n",
        "df_filtered['category'] = df_filtered['category'].str.replace('category_', '')\n",
        "\n",
        "# Calculate the average subscribers for each category\n",
        "category_avg_subscribers = df_filtered.groupby('category')['subscribers'].mean()\n",
        "\n",
        "# Identify the category with the highest average number of subscribers\n",
        "highest_avg_subscribers_category = category_avg_subscribers.idxmax()\n",
        "\n",
        "print(\"Category with Highest Average Number of Subscribers:\", highest_avg_subscribers_category)\n",
        "print(category_avg_subscribers)\n"
      ],
      "metadata": {
        "colab": {
          "base_uri": "https://localhost:8080/"
        },
        "id": "Yc59IyFQDdA7",
        "outputId": "43873e80-3829-4e24-df20-606cefffb877"
      },
      "execution_count": null,
      "outputs": [
        {
          "output_type": "stream",
          "name": "stdout",
          "text": [
            "Category with Highest Average Number of Subscribers: trailers\n",
            "category\n",
            "autos & vehicles         0.023850\n",
            "comedy                   0.033926\n",
            "education                0.033713\n",
            "entertainment            0.036073\n",
            "film & animation         0.064626\n",
            "gaming                   0.037527\n",
            "howto & style            0.030138\n",
            "movies                   0.057370\n",
            "music                    0.047483\n",
            "news & politics          0.027835\n",
            "nonprofits & activism    0.066394\n",
            "people & blogs           0.032649\n",
            "pets & animals           0.016903\n",
            "science & technology     0.027149\n",
            "shows                    0.029759\n",
            "sports                   0.039482\n",
            "trailers                 0.114740\n",
            "travel & events          0.000859\n",
            "Name: subscribers, dtype: float64\n"
          ]
        },
        {
          "output_type": "stream",
          "name": "stderr",
          "text": [
            "<ipython-input-16-afbe3a8b93b8>:10: SettingWithCopyWarning: \n",
            "A value is trying to be set on a copy of a slice from a DataFrame\n",
            "\n",
            "See the caveats in the documentation: https://pandas.pydata.org/pandas-docs/stable/user_guide/indexing.html#returning-a-view-versus-a-copy\n",
            "  df_filtered.drop(columns=['category_value'], inplace=True)\n",
            "<ipython-input-16-afbe3a8b93b8>:13: SettingWithCopyWarning: \n",
            "A value is trying to be set on a copy of a slice from a DataFrame.\n",
            "Try using .loc[row_indexer,col_indexer] = value instead\n",
            "\n",
            "See the caveats in the documentation: https://pandas.pydata.org/pandas-docs/stable/user_guide/indexing.html#returning-a-view-versus-a-copy\n",
            "  df_filtered['category'] = df_filtered['category'].str.replace('category_', '')\n"
          ]
        }
      ]
    },
    {
      "cell_type": "markdown",
      "source": [
        "# 3.Average Videos Uploaded by Category"
      ],
      "metadata": {
        "id": "35asFXsbEdja"
      }
    },
    {
      "cell_type": "code",
      "source": [
        "# Melt the DataFrame to combine categories into a single column\n",
        "category_columns = [col for col in df.columns if col.startswith('category_')]\n",
        "df_melted = df.melt(id_vars=['Youtuber', 'uploads'], value_vars=category_columns,\n",
        "                    var_name='category', value_name='category_value')\n",
        "\n",
        "# Filter rows where category_value is 1 (assuming 1 indicates the category of the Youtuber)\n",
        "df_filtered = df_melted[df_melted['category_value'] == 1]\n",
        "\n",
        "# Remove 'category_value' column as it's no longer needed\n",
        "df_filtered.drop(columns=['category_value'], inplace=True)\n",
        "\n",
        "# Remove the 'category_' prefix from the category names\n",
        "df_filtered['category'] = df_filtered['category'].str.replace('category_', '')\n",
        "\n",
        "# Calculate the average number of uploads for each category\n",
        "avg_uploads_per_category = df_filtered.groupby('category')['uploads'].mean()\n",
        "\n",
        "print(\"Average Videos Uploaded by Category:\")\n",
        "print(avg_uploads_per_category)"
      ],
      "metadata": {
        "colab": {
          "base_uri": "https://localhost:8080/"
        },
        "id": "gWSkoN9eEcul",
        "outputId": "da198492-714e-4f63-b955-c5f923ecd9cf"
      },
      "execution_count": null,
      "outputs": [
        {
          "output_type": "stream",
          "name": "stdout",
          "text": [
            "Average Videos Uploaded by Category:\n",
            "category\n",
            "autos & vehicles           1898.500000\n",
            "comedy                     1044.000000\n",
            "education                  3391.100000\n",
            "entertainment              8436.061538\n",
            "film & animation           2975.897436\n",
            "gaming                     4353.695652\n",
            "howto & style              1731.210526\n",
            "movies                     3553.000000\n",
            "music                      2138.306878\n",
            "news & politics           93925.681818\n",
            "nonprofits & activism    102912.000000\n",
            "people & blogs             6848.232759\n",
            "pets & animals             5679.000000\n",
            "science & technology       2114.058824\n",
            "shows                      3842.500000\n",
            "sports                    10931.750000\n",
            "trailers                   6839.000000\n",
            "travel & events             766.000000\n",
            "Name: uploads, dtype: float64\n"
          ]
        },
        {
          "output_type": "stream",
          "name": "stderr",
          "text": [
            "<ipython-input-17-46a3e0c8e0ca>:10: SettingWithCopyWarning: \n",
            "A value is trying to be set on a copy of a slice from a DataFrame\n",
            "\n",
            "See the caveats in the documentation: https://pandas.pydata.org/pandas-docs/stable/user_guide/indexing.html#returning-a-view-versus-a-copy\n",
            "  df_filtered.drop(columns=['category_value'], inplace=True)\n",
            "<ipython-input-17-46a3e0c8e0ca>:13: SettingWithCopyWarning: \n",
            "A value is trying to be set on a copy of a slice from a DataFrame.\n",
            "Try using .loc[row_indexer,col_indexer] = value instead\n",
            "\n",
            "See the caveats in the documentation: https://pandas.pydata.org/pandas-docs/stable/user_guide/indexing.html#returning-a-view-versus-a-copy\n",
            "  df_filtered['category'] = df_filtered['category'].str.replace('category_', '')\n"
          ]
        }
      ]
    },
    {
      "cell_type": "markdown",
      "source": [
        "# 4. Top 5 Countries with Highest Number of YouTube Channels"
      ],
      "metadata": {
        "id": "pMsDAEbDE9AS"
      }
    },
    {
      "cell_type": "code",
      "source": [
        "top_5_countries = df['Country'].value_counts().head(5)\n",
        "print(top_5_countries)\n"
      ],
      "metadata": {
        "colab": {
          "base_uri": "https://localhost:8080/"
        },
        "id": "i_l2YWRMD3DH",
        "outputId": "a471021e-bc67-4003-abde-2010186befe2"
      },
      "execution_count": null,
      "outputs": [
        {
          "output_type": "stream",
          "name": "stdout",
          "text": [
            "Country\n",
            "United States     401\n",
            "India             140\n",
            "Brazil             58\n",
            "United Kingdom     42\n",
            "Mexico             32\n",
            "Name: count, dtype: int64\n"
          ]
        }
      ]
    },
    {
      "cell_type": "markdown",
      "source": [
        "# 5. Distribution of Channel Types Across Categories"
      ],
      "metadata": {
        "id": "GNmUlbLbFEWd"
      }
    },
    {
      "cell_type": "code",
      "source": [
        "# Melt the DataFrame to combine categories into a single column\n",
        "category_columns = [col for col in df.columns if col.startswith('category_')]\n",
        "df_melted = df.melt(id_vars=['Youtuber', 'uploads'], value_vars=category_columns,\n",
        "                    var_name='category', value_name='category_value')\n",
        "\n",
        "# Filter rows where category_value is 1 (assuming 1 indicates the category of the Youtuber)\n",
        "df_filtered = df_melted[df_melted['category_value'] == 1]\n",
        "\n",
        "# Remove 'category_value' column as it's no longer needed\n",
        "df_filtered.drop(columns=['category_value'], inplace=True)\n",
        "\n",
        "# Remove the 'category_' prefix from the category names\n",
        "df_filtered['category'] = df_filtered['category'].str.replace('category_', '')\n",
        "\n",
        "# Calculate the average number of uploads for each category\n",
        "avg_uploads_per_category = df_filtered.groupby('category')['uploads'].mean()\n",
        "\n",
        "print(\"Average Videos Uploaded by Category:\")\n",
        "print(avg_uploads_per_category)"
      ],
      "metadata": {
        "colab": {
          "base_uri": "https://localhost:8080/"
        },
        "id": "-VNMx89NFBKE",
        "outputId": "adf507e7-32a4-4b7a-8cd6-54282c48d621"
      },
      "execution_count": null,
      "outputs": [
        {
          "output_type": "stream",
          "name": "stdout",
          "text": [
            "Average Videos Uploaded by Category:\n",
            "category\n",
            "autos & vehicles           1898.500000\n",
            "comedy                     1044.000000\n",
            "education                  3391.100000\n",
            "entertainment              8436.061538\n",
            "film & animation           2975.897436\n",
            "gaming                     4353.695652\n",
            "howto & style              1731.210526\n",
            "movies                     3553.000000\n",
            "music                      2138.306878\n",
            "news & politics           93925.681818\n",
            "nonprofits & activism    102912.000000\n",
            "people & blogs             6848.232759\n",
            "pets & animals             5679.000000\n",
            "science & technology       2114.058824\n",
            "shows                      3842.500000\n",
            "sports                    10931.750000\n",
            "trailers                   6839.000000\n",
            "travel & events             766.000000\n",
            "Name: uploads, dtype: float64\n"
          ]
        },
        {
          "output_type": "stream",
          "name": "stderr",
          "text": [
            "<ipython-input-19-46a3e0c8e0ca>:10: SettingWithCopyWarning: \n",
            "A value is trying to be set on a copy of a slice from a DataFrame\n",
            "\n",
            "See the caveats in the documentation: https://pandas.pydata.org/pandas-docs/stable/user_guide/indexing.html#returning-a-view-versus-a-copy\n",
            "  df_filtered.drop(columns=['category_value'], inplace=True)\n",
            "<ipython-input-19-46a3e0c8e0ca>:13: SettingWithCopyWarning: \n",
            "A value is trying to be set on a copy of a slice from a DataFrame.\n",
            "Try using .loc[row_indexer,col_indexer] = value instead\n",
            "\n",
            "See the caveats in the documentation: https://pandas.pydata.org/pandas-docs/stable/user_guide/indexing.html#returning-a-view-versus-a-copy\n",
            "  df_filtered['category'] = df_filtered['category'].str.replace('category_', '')\n"
          ]
        }
      ]
    },
    {
      "cell_type": "markdown",
      "source": [
        "# 6. Correlation Between Subscribers and Video Views"
      ],
      "metadata": {
        "id": "Essit7S4FWCO"
      }
    },
    {
      "cell_type": "code",
      "source": [
        "correlation = df['subscribers'].corr(df['video views'])\n",
        "print(correlation)\n"
      ],
      "metadata": {
        "colab": {
          "base_uri": "https://localhost:8080/"
        },
        "id": "-O8m57xgFHjt",
        "outputId": "9a855ea9-deae-428c-bcbc-6c1bad63c3bd"
      },
      "execution_count": null,
      "outputs": [
        {
          "output_type": "stream",
          "name": "stdout",
          "text": [
            "0.5254066649757096\n"
          ]
        }
      ]
    },
    {
      "cell_type": "markdown",
      "source": [
        "# 7. Monthly Earnings Across Categories"
      ],
      "metadata": {
        "id": "coSotDXVFhoM"
      }
    },
    {
      "cell_type": "code",
      "source": [
        "# Melt the DataFrame to combine categories into a single column\n",
        "category_columns = [col for col in df.columns if col.startswith('category_')]\n",
        "df_melted = df.melt(id_vars=['Youtuber', 'lowest_monthly_earnings', 'highest_monthly_earnings'],\n",
        "                    value_vars=category_columns, var_name='category', value_name='category_value')\n",
        "\n",
        "# Filter rows where category_value is 1 (assuming 1 indicates the category of the Youtuber)\n",
        "df_filtered = df_melted[df_melted['category_value'] == 1]\n",
        "\n",
        "# Remove 'category_value' column as it's no longer needed\n",
        "df_filtered.drop(columns=['category_value'], inplace=True)\n",
        "\n",
        "# Remove the 'category_' prefix from the category names\n",
        "df_filtered['category'] = df_filtered['category'].str.replace('category_', '')\n",
        "\n",
        "# Calculate the average monthly earnings for each category\n",
        "monthly_earnings_by_category = df_filtered.groupby('category')[['lowest_monthly_earnings', 'highest_monthly_earnings']].mean()\n",
        "\n",
        "print(\"Average Monthly Earnings by Category:\")\n",
        "print(monthly_earnings_by_category)"
      ],
      "metadata": {
        "colab": {
          "base_uri": "https://localhost:8080/"
        },
        "id": "rP_LoP8LFgJo",
        "outputId": "9c65a656-79a6-41da-92e0-3939bee648b8"
      },
      "execution_count": null,
      "outputs": [
        {
          "output_type": "stream",
          "name": "stdout",
          "text": [
            "Average Monthly Earnings by Category:\n",
            "                       lowest_monthly_earnings  highest_monthly_earnings\n",
            "category                                                                \n",
            "autos & vehicles                  68300.000000              1.086350e+06\n",
            "comedy                            12226.545455              1.947917e+05\n",
            "education                         22257.725250              3.570750e+05\n",
            "entertainment                     18401.763654              2.944017e+05\n",
            "film & animation                  18092.666923              2.898534e+05\n",
            "gaming                            13192.935652              2.115121e+05\n",
            "howto & style                      9063.000526              1.449806e+05\n",
            "movies                            28400.000000              4.547000e+05\n",
            "music                             24557.430741              3.918758e+05\n",
            "news & politics                   28323.102273              4.549287e+05\n",
            "nonprofits & activism             24400.000000              3.904000e+05\n",
            "people & blogs                    17253.148362              2.765789e+05\n",
            "pets & animals                     3700.666667              5.924300e+04\n",
            "science & technology              12635.411765              2.020432e+05\n",
            "shows                             26475.000000              4.237000e+05\n",
            "sports                            17012.500000              2.720375e+05\n",
            "trailers                          22600.000000              3.619000e+05\n",
            "travel & events                    7800.000000              1.240000e+05\n"
          ]
        },
        {
          "output_type": "stream",
          "name": "stderr",
          "text": [
            "<ipython-input-21-5229ebcb5a85>:10: SettingWithCopyWarning: \n",
            "A value is trying to be set on a copy of a slice from a DataFrame\n",
            "\n",
            "See the caveats in the documentation: https://pandas.pydata.org/pandas-docs/stable/user_guide/indexing.html#returning-a-view-versus-a-copy\n",
            "  df_filtered.drop(columns=['category_value'], inplace=True)\n",
            "<ipython-input-21-5229ebcb5a85>:13: SettingWithCopyWarning: \n",
            "A value is trying to be set on a copy of a slice from a DataFrame.\n",
            "Try using .loc[row_indexer,col_indexer] = value instead\n",
            "\n",
            "See the caveats in the documentation: https://pandas.pydata.org/pandas-docs/stable/user_guide/indexing.html#returning-a-view-versus-a-copy\n",
            "  df_filtered['category'] = df_filtered['category'].str.replace('category_', '')\n"
          ]
        }
      ]
    },
    {
      "cell_type": "markdown",
      "source": [
        "# 8. Trend in Subscribers Gained in Last 30 Days"
      ],
      "metadata": {
        "id": "pbmrZJpfGPSL"
      }
    },
    {
      "cell_type": "code",
      "source": [
        "trend_subscribers_30_days = df['subscribers_for_last_30_days'].sum()\n",
        "print(trend_subscribers_30_days)\n"
      ],
      "metadata": {
        "colab": {
          "base_uri": "https://localhost:8080/"
        },
        "id": "utT2SQuiFom8",
        "outputId": "d4f01e82-08cf-4db3-c280-dcb8b82a3a76"
      },
      "execution_count": null,
      "outputs": [
        {
          "output_type": "stream",
          "name": "stdout",
          "text": [
            "185964069.0\n"
          ]
        }
      ]
    },
    {
      "cell_type": "markdown",
      "source": [
        "# 9. Outliers in Yearly Earnings"
      ],
      "metadata": {
        "id": "C2EakL_kGWVA"
      }
    },
    {
      "cell_type": "code",
      "source": [
        "sns.boxplot(x=df['highest_yearly_earnings'])\n",
        "plt.show()\n"
      ],
      "metadata": {
        "colab": {
          "base_uri": "https://localhost:8080/",
          "height": 470
        },
        "id": "7pzvN7O3GStY",
        "outputId": "7d3743e7-c075-4a0b-9813-f8fdbfe9189f"
      },
      "execution_count": null,
      "outputs": [
        {
          "output_type": "display_data",
          "data": {
            "text/plain": [
              "<Figure size 640x480 with 1 Axes>"
            ],
            "image/png": "[encoded data removed]"
          },
          "metadata": {}
        }
      ]
    },
    {
      "cell_type": "markdown",
      "source": [
        "# 10. Distribution of Channel Creation Dates"
      ],
      "metadata": {
        "id": "PxilgT0dGcZT"
      }
    },
    {
      "cell_type": "code",
      "source": [
        "df['created_year'].value_counts().sort_index().plot(kind='bar')\n",
        "plt.show()\n"
      ],
      "metadata": {
        "colab": {
          "base_uri": "https://localhost:8080/",
          "height": 491
        },
        "id": "gLJRCamkGVfe",
        "outputId": "8561009b-b34c-47c5-efbc-ee202c51bd31"
      },
      "execution_count": null,
      "outputs": [
        {
          "output_type": "display_data",
          "data": {
            "text/plain": [
              "<Figure size 640x480 with 1 Axes>"
            ],
            "image/png": "[encoded data removed]"
          },
          "metadata": {}
        }
      ]
    },
    {
      "cell_type": "markdown",
      "source": [
        "# 11. Relationship Between Education Enrollment and Number of Channels"
      ],
      "metadata": {
        "id": "k_0hT5XXGiPK"
      }
    },
    {
      "cell_type": "code",
      "source": [
        "education_channels_correlation = df.groupby('Country')['Gross tertiary education enrollment (%)'].mean().corr(df['Country'].value_counts())\n",
        "print(education_channels_correlation)\n"
      ],
      "metadata": {
        "colab": {
          "base_uri": "https://localhost:8080/"
        },
        "id": "_cGIna3KGfRC",
        "outputId": "cc9bc4ab-f72c-4c4e-c21d-93f3535f86d0"
      },
      "execution_count": null,
      "outputs": [
        {
          "output_type": "stream",
          "name": "stdout",
          "text": [
            "0.11111032311356961\n"
          ]
        }
      ]
    },
    {
      "cell_type": "markdown",
      "source": [
        "# 12. Unemployment Rate in Top 10 Countries"
      ],
      "metadata": {
        "id": "v39ebmW2Gmdi"
      }
    },
    {
      "cell_type": "code",
      "source": [
        "top_10_countries = df['Country'].value_counts().head(10).index\n",
        "unemployment_top_10 = df[df['Country'].isin(top_10_countries)].groupby('Country')['Unemployment rate'].mean()\n",
        "print(unemployment_top_10)\n"
      ],
      "metadata": {
        "colab": {
          "base_uri": "https://localhost:8080/"
        },
        "id": "3Z_ZCugkGlSh",
        "outputId": "9b999cc6-2af6-4d7e-f60e-1975964c65e9"
      },
      "execution_count": null,
      "outputs": [
        {
          "output_type": "stream",
          "name": "stdout",
          "text": [
            "Country\n",
            "Brazil            12.080000\n",
            "Canada             5.560000\n",
            "India              5.360000\n",
            "Indonesia          4.690000\n",
            "Mexico             3.420000\n",
            "South Korea        4.150000\n",
            "Spain             13.960000\n",
            "Thailand           0.750000\n",
            "United Kingdom     3.850000\n",
            "United States     13.045436\n",
            "Name: Unemployment rate, dtype: float64\n"
          ]
        }
      ]
    },
    {
      "cell_type": "markdown",
      "source": [
        "# 13. Average Urban Population Percentage"
      ],
      "metadata": {
        "id": "uaLCapAAGsS4"
      }
    },
    {
      "cell_type": "code",
      "source": [
        "avg_urban_population = df['Urban_population'].mean()\n",
        "print(avg_urban_population)\n"
      ],
      "metadata": {
        "colab": {
          "base_uri": "https://localhost:8080/"
        },
        "id": "Zp1AtHNiGqzK",
        "outputId": "20762314-ea9d-439f-d626-51c004a1e775"
      },
      "execution_count": null,
      "outputs": [
        {
          "output_type": "stream",
          "name": "stdout",
          "text": [
            "227368694.7935268\n"
          ]
        }
      ]
    },
    {
      "cell_type": "markdown",
      "source": [
        "# 14. Distribution Based on Latitude and Longitude"
      ],
      "metadata": {
        "id": "tfZPzFSzGz2I"
      }
    },
    {
      "cell_type": "code",
      "source": [
        "sns.scatterplot(x='Longitude', y='Latitude', data=df)\n",
        "plt.show()\n"
      ],
      "metadata": {
        "colab": {
          "base_uri": "https://localhost:8080/",
          "height": 469
        },
        "id": "cZja1GzAGxE-",
        "outputId": "6fefe83f-338a-4a9d-ff30-e8b6eee67d67"
      },
      "execution_count": null,
      "outputs": [
        {
          "output_type": "display_data",
          "data": {
            "text/plain": [
              "<Figure size 640x480 with 1 Axes>"
            ],
            "image/png": "[encoded data removed]"
          },
          "metadata": {}
        }
      ]
    },
    {
      "cell_type": "markdown",
      "source": [
        "# 15. Correlation Between Subscribers and Population"
      ],
      "metadata": {
        "id": "pLSo70TxG7jK"
      }
    },
    {
      "cell_type": "code",
      "source": [
        "subscribers_population_correlation = df['subscribers'].corr(df['Population'])\n",
        "print(subscribers_population_correlation)\n"
      ],
      "metadata": {
        "colab": {
          "base_uri": "https://localhost:8080/"
        },
        "id": "j35bnlApG2u5",
        "outputId": "af866cda-6adb-4970-d389-ed5e430884dd"
      },
      "execution_count": null,
      "outputs": [
        {
          "output_type": "stream",
          "name": "stdout",
          "text": [
            "-0.011183939548061673\n"
          ]
        }
      ]
    },
    {
      "cell_type": "markdown",
      "source": [
        "# 16. Comparison of Top 10 Countries by Population"
      ],
      "metadata": {
        "id": "cNOqlFetHA_8"
      }
    },
    {
      "cell_type": "code",
      "source": [
        "top_10_population = df[df['Country'].isin(top_10_countries)].groupby('Country')['Population'].mean()\n",
        "print(top_10_population)\n"
      ],
      "metadata": {
        "colab": {
          "base_uri": "https://localhost:8080/"
        },
        "id": "K1lhAcXAG6tC",
        "outputId": "05a4e628-274a-401c-dfeb-64d21574f09f"
      },
      "execution_count": null,
      "outputs": [
        {
          "output_type": "stream",
          "name": "stdout",
          "text": [
            "Country\n",
            "Brazil            2.125594e+08\n",
            "Canada            3.699198e+07\n",
            "India             1.366418e+09\n",
            "Indonesia         2.702039e+08\n",
            "Mexico            1.260140e+08\n",
            "South Korea       5.170910e+07\n",
            "Spain             4.707678e+07\n",
            "Thailand          6.962558e+07\n",
            "United Kingdom    6.683440e+07\n",
            "United States     3.282395e+08\n",
            "Name: Population, dtype: float64\n"
          ]
        }
      ]
    },
    {
      "cell_type": "markdown",
      "source": [
        "# 17. Correlation Between Subscribers Gained and Unemployment Rate"
      ],
      "metadata": {
        "id": "JnyajcF0HHVy"
      }
    },
    {
      "cell_type": "code",
      "source": [
        "subscribers_unemployment_correlation = df['subscribers_for_last_30_days'].corr(df['Unemployment rate'])\n",
        "print(subscribers_unemployment_correlation)\n"
      ],
      "metadata": {
        "colab": {
          "base_uri": "https://localhost:8080/"
        },
        "id": "1tvFRJsoHEJD",
        "outputId": "debc7971-b3d9-4a19-bee1-dbaa1409c9ca"
      },
      "execution_count": null,
      "outputs": [
        {
          "output_type": "stream",
          "name": "stdout",
          "text": [
            "-0.04495284058482648\n"
          ]
        }
      ]
    },
    {
      "cell_type": "markdown",
      "source": [
        "# 18. Video Views for Last 30 Days by Channel Type"
      ],
      "metadata": {
        "id": "ciEIX3SqHMpk"
      }
    },
    {
      "cell_type": "code",
      "source": [
        "# Melt the DataFrame to combine channel types into a single column\n",
        "channel_type_columns = [col for col in df.columns if col.startswith('channel_type_')]\n",
        "df_melted = df.melt(id_vars=['Youtuber', 'video_views_for_the_last_30_days'],\n",
        "                    value_vars=channel_type_columns, var_name='channel_type', value_name='channel_type_value')\n",
        "\n",
        "# Filter rows where channel_type_value is 1 (assuming 1 indicates the channel type of the Youtuber)\n",
        "df_filtered = df_melted[df_melted['channel_type_value'] == 1]\n",
        "\n",
        "# Remove 'channel_type_value' column as it's no longer needed\n",
        "df_filtered.drop(columns=['channel_type_value'], inplace=True)\n",
        "\n",
        "# Remove the 'channel_type_' prefix from the channel type names\n",
        "df_filtered['channel_type'] = df_filtered['channel_type'].str.replace('channel_type_', '')\n",
        "\n",
        "# Calculate the average video views for the last 30 days for each channel type\n",
        "video_views_30_days_channel_type = df_filtered.groupby('channel_type')['video_views_for_the_last_30_days'].mean()\n",
        "\n",
        "print(\"Average Video Views for the Last 30 Days by Channel Type:\")\n",
        "print(video_views_30_days_channel_type)"
      ],
      "metadata": {
        "colab": {
          "base_uri": "https://localhost:8080/"
        },
        "id": "T8_UBL_MHMCw",
        "outputId": "47a233ca-bd97-4ea3-a5e2-5fa5b0b61c4c"
      },
      "execution_count": null,
      "outputs": [
        {
          "output_type": "stream",
          "name": "stdout",
          "text": [
            "Average Video Views for the Last 30 Days by Channel Type:\n",
            "channel_type\n",
            "Animals          2.989000e+06\n",
            "Autos            1.177538e+08\n",
            "Comedy           5.546382e+07\n",
            "Education        1.130802e+08\n",
            "Entertainment    1.093884e+08\n",
            "Film             1.124695e+08\n",
            "Games            6.196003e+07\n",
            "Howto            4.641307e+07\n",
            "Music            1.317381e+08\n",
            "News             1.283293e+08\n",
            "Nonprofit        9.759050e+07\n",
            "People           6.140236e+07\n",
            "Sports           5.440550e+07\n",
            "Tech             5.508947e+07\n",
            "rank             1.225892e+08\n",
            "Name: video_views_for_the_last_30_days, dtype: float64\n"
          ]
        },
        {
          "output_type": "stream",
          "name": "stderr",
          "text": [
            "<ipython-input-32-e6841ab31c77>:10: SettingWithCopyWarning: \n",
            "A value is trying to be set on a copy of a slice from a DataFrame\n",
            "\n",
            "See the caveats in the documentation: https://pandas.pydata.org/pandas-docs/stable/user_guide/indexing.html#returning-a-view-versus-a-copy\n",
            "  df_filtered.drop(columns=['channel_type_value'], inplace=True)\n",
            "<ipython-input-32-e6841ab31c77>:13: SettingWithCopyWarning: \n",
            "A value is trying to be set on a copy of a slice from a DataFrame.\n",
            "Try using .loc[row_indexer,col_indexer] = value instead\n",
            "\n",
            "See the caveats in the documentation: https://pandas.pydata.org/pandas-docs/stable/user_guide/indexing.html#returning-a-view-versus-a-copy\n",
            "  df_filtered['channel_type'] = df_filtered['channel_type'].str.replace('channel_type_', '')\n"
          ]
        }
      ]
    },
    {
      "cell_type": "markdown",
      "source": [
        "# 19. Seasonal Trends in Videos Uploaded:"
      ],
      "metadata": {
        "id": "t45nNtidICqQ"
      }
    },
    {
      "cell_type": "code",
      "source": [
        "# Group by created_year and created_month to aggregate uploads\n",
        "monthly_uploads = df.groupby(['created_year', 'created_month'])['uploads'].sum().reset_index()\n",
        "\n",
        "# Plotting the trend of uploads over months\n",
        "plt.figure(figsize=(12, 6))\n",
        "plt.plot(monthly_uploads.index, monthly_uploads['uploads'], marker='o', linestyle='-', color='b')\n",
        "plt.title('Monthly Trend in Videos Uploaded')\n",
        "plt.xlabel('Months since start')\n",
        "plt.ylabel('Number of Uploads')\n",
        "plt.xticks(ticks=monthly_uploads.index, labels=monthly_uploads.apply(lambda x: f\"{x['created_year']}-{x['created_month']:02d}\", axis=1), rotation=45)\n",
        "plt.grid(True)\n",
        "plt.tight_layout()\n",
        "plt.show()"
      ],
      "metadata": {
        "colab": {
          "base_uri": "https://localhost:8080/",
          "height": 627
        },
        "id": "bgvUD9A3HwPK",
        "outputId": "911944f5-cdcb-482a-e7fd-63b419b9345a"
      },
      "execution_count": null,
      "outputs": [
        {
          "output_type": "display_data",
          "data": {
            "text/plain": [
              "<Figure size 1200x600 with 1 Axes>"
            ],
            "image/png": "[encoded data removed]"
          },
          "metadata": {}
        }
      ]
    },
    {
      "cell_type": "markdown",
      "source": [
        "# 20. Average Number of Subscribers Gained Per Month Since Creation"
      ],
      "metadata": {
        "id": "0htwY3LBT9Qn"
      }
    },
    {
      "cell_type": "code",
      "source": [
        "df['months_since_creation'] = ((pd.to_datetime('today') - df['created_date']).dt.days / 30).astype(int)\n",
        "df['avg_subscribers_per_month'] = df['subscribers'] / df['months_since_creation']\n",
        "print(df[['Youtuber', 'avg_subscribers_per_month']])\n"
      ],
      "metadata": {
        "colab": {
          "base_uri": "https://localhost:8080/"
        },
        "id": "bbdqqenIJHsq",
        "outputId": "5af809f7-3fd6-4516-bc07-81d4285f7e94"
      },
      "execution_count": null,
      "outputs": [
        {
          "output_type": "stream",
          "name": "stdout",
          "text": [
            "                     Youtuber  avg_subscribers_per_month\n",
            "1              youtube movies               1.022167e-03\n",
            "5                       music               6.915992e-04\n",
            "7                   pewdiepie               6.397455e-04\n",
            "8                 like nastya               6.073369e-04\n",
            "12                     gaming               5.269636e-04\n",
            "..                        ...                        ...\n",
            "989                 migos atl               6.481717e-07\n",
            "991  free fire india official               0.000000e+00\n",
            "992                     panda               0.000000e+00\n",
            "993               robtopgames               0.000000e+00\n",
            "994              make joke of               0.000000e+00\n",
            "\n",
            "[896 rows x 2 columns]\n"
          ]
        }
      ]
    }
  ]
}